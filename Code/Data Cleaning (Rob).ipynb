{
 "cells": [
  {
   "cell_type": "code",
   "execution_count": 1,
   "metadata": {},
   "outputs": [],
   "source": [
    "# Dependencies\n",
    "import pandas as pd "
   ]
  },
  {
   "cell_type": "markdown",
   "metadata": {},
   "source": [
    "## Data Cleaning '76-'90"
   ]
  },
  {
   "cell_type": "markdown",
   "metadata": {},
   "source": [
    "Starting the cleaning process, cutting down the original dataset into only the chunks that we needed for our API."
   ]
  },
  {
   "cell_type": "code",
   "execution_count": 2,
   "metadata": {},
   "outputs": [],
   "source": [
    "df_76_77 = pd.read_csv(\"Data/advanced_76_77.csv\") \n",
    "\n",
    "df_76_77.drop(df_76_77[df_76_77['Tm'] == 'TOT'].index, inplace = True)\n",
    "\n",
    "df_76_77 = df_76_77[['Player','MP','WS', 'WS/48', 'BPM']]\n",
    "\n",
    "df_76_77 = df_76_77.groupby(['Player']).sum().reset_index()\n",
    "\n",
    "df_76_77 = df_76_77.round({'WS/48':3, 'WS':3, 'BPM':3})\n",
    "\n",
    "df_76_77.to_csv('Data/Cleaned/76_77_clean.csv', index=False)"
   ]
  },
  {
   "cell_type": "code",
   "execution_count": 3,
   "metadata": {},
   "outputs": [],
   "source": [
    "df_77_78 = pd.read_csv(\"Data/advanced_77_78.csv\") \n",
    "\n",
    "df_77_78.drop(df_77_78[df_77_78['Tm'] == 'TOT'].index, inplace = True)\n",
    "\n",
    "df_77_78 = df_77_78[['Player','MP','WS', 'WS/48', 'BPM']]\n",
    "\n",
    "df_77_78 = df_77_78.groupby(['Player']).sum().reset_index()\n",
    "\n",
    "df_77_78 = df_77_78.round({'WS/48':3, 'WS':3, 'BPM':3})\n",
    "\n",
    "df_77_78.to_csv('Data/Cleaned/77_78_clean.csv', index=False)"
   ]
  },
  {
   "cell_type": "code",
   "execution_count": 4,
   "metadata": {},
   "outputs": [],
   "source": [
    "df_78_79 = pd.read_csv(\"Data/advanced_78_79.csv\") \n",
    "\n",
    "df_78_79.drop(df_78_79[df_78_79['Tm'] == 'TOT'].index, inplace = True)\n",
    "\n",
    "df_78_79 = df_78_79[['Player','MP','WS', 'WS/48', 'BPM']]\n",
    "\n",
    "df_78_79 = df_78_79.groupby(['Player']).sum().reset_index()\n",
    "\n",
    "df_78_79 = df_78_79.round({'WS/48':3, 'WS':3, 'BPM':3})\n",
    "\n",
    "df_78_79.to_csv('Data/Cleaned/78_79_clean.csv', index=False)"
   ]
  },
  {
   "cell_type": "code",
   "execution_count": 5,
   "metadata": {},
   "outputs": [],
   "source": [
    "df_79_80 = pd.read_csv(\"Data/advanced_79_80.csv\") \n",
    "\n",
    "df_79_80.drop(df_79_80[df_79_80['Tm'] == 'TOT'].index, inplace = True)\n",
    "\n",
    "df_79_80 = df_79_80[['Player','MP','WS', 'WS/48', 'BPM']]\n",
    "\n",
    "df_79_80 = df_79_80.groupby(['Player']).sum().reset_index()\n",
    "\n",
    "df_79_80 = df_79_80.round({'WS/48':3, 'WS':3, 'BPM':3})\n",
    "\n",
    "df_79_80.to_csv('Data/Cleaned/79_80_clean.csv', index=False)"
   ]
  },
  {
   "cell_type": "code",
   "execution_count": 6,
   "metadata": {},
   "outputs": [],
   "source": [
    "df_80_81 = pd.read_csv(\"Data/advanced_80_81.csv\") \n",
    "\n",
    "df_80_81.drop(df_80_81[df_80_81['Tm'] == 'TOT'].index, inplace = True)\n",
    "\n",
    "df_80_81 = df_80_81[['Player','MP','WS', 'WS/48', 'BPM']]\n",
    "\n",
    "df_80_81 = df_80_81.groupby(['Player']).sum().reset_index()\n",
    "\n",
    "df_80_81 = df_80_81.round({'WS/48':3, 'WS':3, 'BPM':3})\n",
    "\n",
    "df_80_81.to_csv('Data/Cleaned/80_81_clean.csv', index=False)"
   ]
  },
  {
   "cell_type": "code",
   "execution_count": 7,
   "metadata": {},
   "outputs": [],
   "source": [
    "df_81_82 = pd.read_csv(\"Data/advanced_81_82.csv\") \n",
    "\n",
    "df_81_82.drop(df_81_82[df_81_82['Tm'] == 'TOT'].index, inplace = True)\n",
    "\n",
    "df_81_82 = df_81_82[['Player','MP','WS', 'WS/48', 'BPM']]\n",
    "\n",
    "df_81_82 = df_81_82.groupby(['Player']).sum().reset_index()\n",
    "\n",
    "df_81_82 = df_81_82.round({'WS/48':3, 'WS':3, 'BPM':3})\n",
    "\n",
    "df_81_82.to_csv('Data/Cleaned/81_82_clean.csv', index=False)"
   ]
  },
  {
   "cell_type": "code",
   "execution_count": 8,
   "metadata": {},
   "outputs": [],
   "source": [
    "df_82_83 = pd.read_csv(\"Data/advanced_82_83.csv\") \n",
    "\n",
    "df_82_83.drop(df_82_83[df_82_83['Tm'] == 'TOT'].index, inplace = True)\n",
    "\n",
    "df_82_83 = df_82_83[['Player','MP','WS', 'WS/48', 'BPM']]\n",
    "\n",
    "df_82_83 = df_82_83.groupby(['Player']).sum().reset_index()\n",
    "\n",
    "df_82_83 = df_82_83.round({'WS/48':3, 'WS':3, 'BPM':3})\n",
    "\n",
    "df_82_83.to_csv('Data/Cleaned/82_83_clean.csv', index=False)"
   ]
  },
  {
   "cell_type": "code",
   "execution_count": 9,
   "metadata": {},
   "outputs": [],
   "source": [
    "df_83_84 = pd.read_csv(\"Data/advanced_83_84.csv\") \n",
    "\n",
    "df_83_84.drop(df_83_84[df_83_84['Tm'] == 'TOT'].index, inplace = True)\n",
    "\n",
    "df_83_84 = df_83_84[['Player','MP','WS', 'WS/48', 'BPM']]\n",
    "\n",
    "df_83_84 = df_83_84.groupby(['Player']).sum().reset_index()\n",
    "\n",
    "df_83_84 = df_83_84.round({'WS/48':3, 'WS':3, 'BPM':3})\n",
    "\n",
    "df_83_84.to_csv('Data/Cleaned/83_84_clean.csv', index=False)"
   ]
  },
  {
   "cell_type": "code",
   "execution_count": 10,
   "metadata": {},
   "outputs": [],
   "source": [
    "df_84_85 = pd.read_csv(\"Data/advanced_84_85.csv\") \n",
    "\n",
    "df_84_85.drop(df_84_85[df_84_85['Tm'] == 'TOT'].index, inplace = True)\n",
    "\n",
    "df_84_85 = df_84_85[['Player','MP','WS', 'WS/48', 'BPM']]\n",
    "\n",
    "df_84_85 = df_84_85.groupby(['Player']).sum().reset_index()\n",
    "\n",
    "df_84_85 = df_84_85.round({'WS/48':3, 'WS':3, 'BPM':3})\n",
    "\n",
    "df_84_85.to_csv('Data/Cleaned/84_85_clean.csv', index=False)"
   ]
  },
  {
   "cell_type": "code",
   "execution_count": 11,
   "metadata": {},
   "outputs": [],
   "source": [
    "df_85_86 = pd.read_csv(\"Data/advanced_85_86.csv\") \n",
    "\n",
    "df_85_86.drop(df_85_86[df_85_86['Tm'] == 'TOT'].index, inplace = True)\n",
    "\n",
    "df_85_86 = df_85_86[['Player','MP','WS', 'WS/48', 'BPM']]\n",
    "\n",
    "df_85_86 = df_85_86.groupby(['Player']).sum().reset_index()\n",
    "\n",
    "df_85_86 = df_85_86.round({'WS/48':3, 'WS':3, 'BPM':3})\n",
    "\n",
    "df_85_86.to_csv('Data/Cleaned/85_86_clean.csv', index=False)"
   ]
  },
  {
   "cell_type": "code",
   "execution_count": 12,
   "metadata": {},
   "outputs": [],
   "source": [
    "df_86_87 = pd.read_csv(\"Data/advanced_86_87.csv\") \n",
    "\n",
    "df_86_87.drop(df_86_87[df_86_87['Tm'] == 'TOT'].index, inplace = True)\n",
    "\n",
    "df_86_87 = df_86_87[['Player','MP','WS', 'WS/48', 'BPM']]\n",
    "\n",
    "df_86_87 = df_86_87.groupby(['Player']).sum().reset_index()\n",
    "\n",
    "df_86_87 = df_86_87.round({'WS/48':3, 'WS':3, 'BPM':3})\n",
    "\n",
    "df_86_87.to_csv('Data/Cleaned/86_87_clean.csv', index=False)"
   ]
  },
  {
   "cell_type": "code",
   "execution_count": 13,
   "metadata": {},
   "outputs": [],
   "source": [
    "df_87_88 = pd.read_csv(\"Data/advanced_87_88.csv\") \n",
    "\n",
    "df_87_88.drop(df_87_88[df_87_88['Tm'] == 'TOT'].index, inplace = True)\n",
    "\n",
    "df_87_88 = df_87_88[['Player','MP','WS', 'WS/48', 'BPM']]\n",
    "\n",
    "df_87_88 = df_87_88.groupby(['Player']).sum().reset_index()\n",
    "\n",
    "df_87_88 = df_87_88.round({'WS/48':3, 'WS':3, 'BPM':3})\n",
    "\n",
    "df_87_88.to_csv('Data/Cleaned/87_88_clean.csv', index=False)"
   ]
  },
  {
   "cell_type": "code",
   "execution_count": 14,
   "metadata": {},
   "outputs": [],
   "source": [
    "df_88_89 = pd.read_csv(\"Data/advanced_88_89.csv\") \n",
    "\n",
    "df_88_89.drop(df_88_89[df_88_89['Tm'] == 'TOT'].index, inplace = True)\n",
    "\n",
    "df_88_89 = df_88_89[['Player','MP','WS', 'WS/48', 'BPM']]\n",
    "\n",
    "df_88_89 = df_88_89.groupby(['Player']).sum().reset_index()\n",
    "\n",
    "df_88_89 = df_88_89.round({'WS/48':3, 'WS':3, 'BPM':3})\n",
    "\n",
    "df_88_89.to_csv('Data/Cleaned/88_89_clean.csv', index=False)"
   ]
  },
  {
   "cell_type": "code",
   "execution_count": 15,
   "metadata": {},
   "outputs": [],
   "source": [
    "df_89_90 = pd.read_csv(\"Data/advanced_89_90.csv\") \n",
    "\n",
    "df_89_90.drop(df_89_90[df_89_90['Tm'] == 'TOT'].index, inplace = True)\n",
    "\n",
    "df_89_90 = df_89_90[['Player','MP','WS', 'WS/48', 'BPM']]\n",
    "\n",
    "df_89_90 = df_89_90.groupby(['Player']).sum().reset_index()\n",
    "\n",
    "df_89_90 = df_89_90.round({'WS/48':3, 'WS':3, 'BPM':3})\n",
    "\n",
    "df_89_90.to_csv('Data/Cleaned/89_90_clean.csv', index=False)"
   ]
  },
  {
   "cell_type": "code",
   "execution_count": null,
   "metadata": {},
   "outputs": [],
   "source": []
  }
 ],
 "metadata": {
  "kernelspec": {
   "display_name": "Python 3",
   "language": "python",
   "name": "python3"
  },
  "language_info": {
   "codemirror_mode": {
    "name": "ipython",
    "version": 3
   },
   "file_extension": ".py",
   "mimetype": "text/x-python",
   "name": "python",
   "nbconvert_exporter": "python",
   "pygments_lexer": "ipython3",
   "version": "3.6.12"
  }
 },
 "nbformat": 4,
 "nbformat_minor": 4
}

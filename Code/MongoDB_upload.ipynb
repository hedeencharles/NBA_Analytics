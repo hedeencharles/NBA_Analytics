{
 "cells": [
  {
   "cell_type": "code",
   "execution_count": 1,
   "metadata": {},
   "outputs": [],
   "source": [
    "# import libraries\n",
    "import csv\n",
    "import pymongo\n",
    "import pandas as pd\n",
    "from pathlib import Path"
   ]
  },
  {
   "cell_type": "code",
   "execution_count": 9,
   "metadata": {},
   "outputs": [
    {
     "data": {
      "text/html": [
       "<div>\n",
       "<style scoped>\n",
       "    .dataframe tbody tr th:only-of-type {\n",
       "        vertical-align: middle;\n",
       "    }\n",
       "\n",
       "    .dataframe tbody tr th {\n",
       "        vertical-align: top;\n",
       "    }\n",
       "\n",
       "    .dataframe thead th {\n",
       "        text-align: right;\n",
       "    }\n",
       "</style>\n",
       "<table border=\"1\" class=\"dataframe\">\n",
       "  <thead>\n",
       "    <tr style=\"text-align: right;\">\n",
       "      <th></th>\n",
       "      <th>Player</th>\n",
       "      <th>birth_state</th>\n",
       "    </tr>\n",
       "  </thead>\n",
       "  <tbody>\n",
       "    <tr>\n",
       "      <th>0</th>\n",
       "      <td>Cliff Barker</td>\n",
       "      <td>Indiana</td>\n",
       "    </tr>\n",
       "    <tr>\n",
       "      <th>1</th>\n",
       "      <td>Ralph Beard</td>\n",
       "      <td>Kentucky</td>\n",
       "    </tr>\n",
       "    <tr>\n",
       "      <th>2</th>\n",
       "      <td>Charlie Black</td>\n",
       "      <td>Idaho</td>\n",
       "    </tr>\n",
       "    <tr>\n",
       "      <th>3</th>\n",
       "      <td>Nelson Bobb</td>\n",
       "      <td>Pennsylvania</td>\n",
       "    </tr>\n",
       "    <tr>\n",
       "      <th>4</th>\n",
       "      <td>Jake Bornheimer</td>\n",
       "      <td>New Jersey</td>\n",
       "    </tr>\n",
       "    <tr>\n",
       "      <th>...</th>\n",
       "      <td>...</td>\n",
       "      <td>...</td>\n",
       "    </tr>\n",
       "    <tr>\n",
       "      <th>3434</th>\n",
       "      <td>Troy Williams</td>\n",
       "      <td>South Carolina</td>\n",
       "    </tr>\n",
       "    <tr>\n",
       "      <th>3435</th>\n",
       "      <td>Kyle Wiltjer</td>\n",
       "      <td>Oregon</td>\n",
       "    </tr>\n",
       "    <tr>\n",
       "      <th>3436</th>\n",
       "      <td>Stephen Zimmerman</td>\n",
       "      <td>Tennessee</td>\n",
       "    </tr>\n",
       "    <tr>\n",
       "      <th>3437</th>\n",
       "      <td>Paul Zipser</td>\n",
       "      <td>Germany</td>\n",
       "    </tr>\n",
       "    <tr>\n",
       "      <th>3438</th>\n",
       "      <td>Ivica Zubac</td>\n",
       "      <td>Bosnia and Herzegovina</td>\n",
       "    </tr>\n",
       "  </tbody>\n",
       "</table>\n",
       "<p>3439 rows × 2 columns</p>\n",
       "</div>"
      ],
      "text/plain": [
       "                 Player             birth_state\n",
       "0          Cliff Barker                 Indiana\n",
       "1           Ralph Beard                Kentucky\n",
       "2         Charlie Black                   Idaho\n",
       "3           Nelson Bobb            Pennsylvania\n",
       "4       Jake Bornheimer              New Jersey\n",
       "...                 ...                     ...\n",
       "3434      Troy Williams          South Carolina\n",
       "3435       Kyle Wiltjer                  Oregon\n",
       "3436  Stephen Zimmerman               Tennessee\n",
       "3437        Paul Zipser                 Germany\n",
       "3438        Ivica Zubac  Bosnia and Herzegovina\n",
       "\n",
       "[3439 rows x 2 columns]"
      ]
     },
     "execution_count": 9,
     "metadata": {},
     "output_type": "execute_result"
    }
   ],
   "source": [
    "# import csv file\n",
    "salary_dataset = pd.read_excel(\"../Datasets/Player_salary_1990-2017.xlsx\")\n",
    "birthplace_dataset = pd.read_csv(\"../Datasets/nba_hometown_data.csv\")\n",
    "\n",
    "birthplace_dataset"
   ]
  },
  {
   "cell_type": "code",
   "execution_count": 3,
   "metadata": {},
   "outputs": [
    {
     "data": {
      "text/html": [
       "<div>\n",
       "<style scoped>\n",
       "    .dataframe tbody tr th:only-of-type {\n",
       "        vertical-align: middle;\n",
       "    }\n",
       "\n",
       "    .dataframe tbody tr th {\n",
       "        vertical-align: top;\n",
       "    }\n",
       "\n",
       "    .dataframe thead th {\n",
       "        text-align: right;\n",
       "    }\n",
       "</style>\n",
       "<table border=\"1\" class=\"dataframe\">\n",
       "  <thead>\n",
       "    <tr style=\"text-align: right;\">\n",
       "      <th></th>\n",
       "      <th>player_name</th>\n",
       "      <th>salary_$</th>\n",
       "      <th>season_start</th>\n",
       "      <th>season_end</th>\n",
       "      <th>Team</th>\n",
       "      <th>team_name</th>\n",
       "    </tr>\n",
       "  </thead>\n",
       "  <tbody>\n",
       "    <tr>\n",
       "      <th>0</th>\n",
       "      <td>A.C. Green</td>\n",
       "      <td>1750000</td>\n",
       "      <td>1990</td>\n",
       "      <td>1991</td>\n",
       "      <td>LAL</td>\n",
       "      <td>Los Angeles Lakers</td>\n",
       "    </tr>\n",
       "    <tr>\n",
       "      <th>1</th>\n",
       "      <td>A.C. Green</td>\n",
       "      <td>1750000</td>\n",
       "      <td>1991</td>\n",
       "      <td>1992</td>\n",
       "      <td>LAL</td>\n",
       "      <td>Los Angeles Lakers</td>\n",
       "    </tr>\n",
       "    <tr>\n",
       "      <th>2</th>\n",
       "      <td>A.C. Green</td>\n",
       "      <td>1750000</td>\n",
       "      <td>1992</td>\n",
       "      <td>1993</td>\n",
       "      <td>LAL</td>\n",
       "      <td>Los Angeles Lakers</td>\n",
       "    </tr>\n",
       "    <tr>\n",
       "      <th>3</th>\n",
       "      <td>A.C. Green</td>\n",
       "      <td>1885000</td>\n",
       "      <td>1993</td>\n",
       "      <td>1994</td>\n",
       "      <td>PHO</td>\n",
       "      <td>Phoenix Suns</td>\n",
       "    </tr>\n",
       "    <tr>\n",
       "      <th>4</th>\n",
       "      <td>A.C. Green</td>\n",
       "      <td>6472600</td>\n",
       "      <td>1994</td>\n",
       "      <td>1995</td>\n",
       "      <td>PHO</td>\n",
       "      <td>Phoenix Suns</td>\n",
       "    </tr>\n",
       "  </tbody>\n",
       "</table>\n",
       "</div>"
      ],
      "text/plain": [
       "  player_name  salary_$  season_start  season_end Team           team_name\n",
       "0  A.C. Green   1750000          1990        1991  LAL  Los Angeles Lakers\n",
       "1  A.C. Green   1750000          1991        1992  LAL  Los Angeles Lakers\n",
       "2  A.C. Green   1750000          1992        1993  LAL  Los Angeles Lakers\n",
       "3  A.C. Green   1885000          1993        1994  PHO        Phoenix Suns\n",
       "4  A.C. Green   6472600          1994        1995  PHO        Phoenix Suns"
      ]
     },
     "execution_count": 3,
     "metadata": {},
     "output_type": "execute_result"
    }
   ],
   "source": [
    "salary_dataset = salary_dataset.rename(columns={'Player Name':'player_name','Salary in $':'salary_$','Season Start':'season_start','Season End':'season_end','Full Team Name':'team_name'})\n",
    "salary_dataset = salary_dataset.drop(axis=1,columns=['Register Value'])\n",
    "salary_dataset.head()"
   ]
  },
  {
   "cell_type": "markdown",
   "metadata": {},
   "source": [
    "# Establish connection to MongoDB"
   ]
  },
  {
   "cell_type": "code",
   "execution_count": 4,
   "metadata": {},
   "outputs": [
    {
     "data": {
      "text/plain": [
       "MongoClient(host=['localhost:27017'], document_class=dict, tz_aware=False, connect=True)"
      ]
     },
     "execution_count": 4,
     "metadata": {},
     "output_type": "execute_result"
    }
   ],
   "source": [
    "# Establish connection to local host 27017\n",
    "conn = 'mongodb://localhost:27017'\n",
    "\n",
    "# Connect to MongoClient\n",
    "client = pymongo.MongoClient(conn)\n",
    "client"
   ]
  },
  {
   "cell_type": "code",
   "execution_count": 5,
   "metadata": {},
   "outputs": [],
   "source": [
    "# Begin by dropping any previous version of the MongoDB instance.\n",
    "# client.drop_database('nba_players_db')"
   ]
  },
  {
   "cell_type": "code",
   "execution_count": 6,
   "metadata": {},
   "outputs": [],
   "source": [
    "# Create database by naming db here\n",
    "db = client.nba_players_db"
   ]
  },
  {
   "cell_type": "markdown",
   "metadata": {},
   "source": [
    "# Create collection by naming collection here"
   ]
  },
  {
   "cell_type": "markdown",
   "metadata": {},
   "source": [
    "### Salary collection"
   ]
  },
  {
   "cell_type": "code",
   "execution_count": 6,
   "metadata": {},
   "outputs": [],
   "source": [
    "# Create salary collection\n",
    "salary_collection = db.player_salary_info"
   ]
  },
  {
   "cell_type": "code",
   "execution_count": 8,
   "metadata": {},
   "outputs": [],
   "source": [
    "# # Use \".to_dict('records')\"in combination with .csv variable to create list of dictionaries data set\n",
    "# salary_dataset.reset_index(inplace=True)\n",
    "\n",
    "# salary_dict = salary_dataset.to_dict('records')\n",
    "\n",
    "# # Insert data from the 'data_dict' variable into the collection using 'collection' variable\n",
    "# salary_collection.insert_many(salary_dict)"
   ]
  },
  {
   "cell_type": "markdown",
   "metadata": {},
   "source": [
    "### Player WS Collection"
   ]
  },
  {
   "cell_type": "code",
   "execution_count": 9,
   "metadata": {},
   "outputs": [],
   "source": [
    "# Create collection for player WS info 1976-2020\n",
    "playerWS_collection = db.playerWS\n"
   ]
  },
  {
   "cell_type": "code",
   "execution_count": 10,
   "metadata": {},
   "outputs": [],
   "source": [
    "# folder = \"../Data/Data_Raw\"\n",
    "\n",
    "# year = 1976\n",
    "\n",
    "# counter = 0\n",
    "\n",
    "# # i = 0\n",
    "\n",
    "# for file in Path(folder).glob('*.csv'):\n",
    "#     df = pd.read_csv(file)\n",
    "#     df.drop(df[df['Tm'] == 'TOT'].index, inplace = True)\n",
    "#     df = df[['Player','MP','WS', 'WS/48', 'BPM']]\n",
    "#     df = df.groupby(['Player']).sum().reset_index()\n",
    "#     df['Player'] = df['Player'].str.replace('?', '')\n",
    "#     df['Player'] = df['Player'].str.replace('*', '')\n",
    "#     for index, row in df.iterrows():\n",
    "#         obj = {\n",
    "#             'year': year,\n",
    "#             'player': row['Player'],\n",
    "#             'mp': row['MP'],\n",
    "#             'ws': row['WS'],\n",
    "#             'wsper48': row['WS/48'],\n",
    "#             'bpm': row['BPM']\n",
    "#         }\n",
    "#     year += 1   \n",
    "#     counter += 1\n",
    "    \n",
    "    \n",
    "#     playerWS_collection.insert_one(obj)\n",
    "\n",
    "# #     i += 1\n",
    "# #     if i == 17:\n",
    "# #        break"
   ]
  },
  {
   "cell_type": "code",
   "execution_count": 11,
   "metadata": {},
   "outputs": [],
   "source": [
    "# len(obj)\n",
    "# print(counter)"
   ]
  },
  {
   "cell_type": "markdown",
   "metadata": {},
   "source": [
    "### Player birthplace collection"
   ]
  },
  {
   "cell_type": "code",
   "execution_count": 7,
   "metadata": {},
   "outputs": [],
   "source": [
    "player_birthplace_collection = db.playerBirthplace"
   ]
  },
  {
   "cell_type": "code",
   "execution_count": 8,
   "metadata": {},
   "outputs": [
    {
     "data": {
      "text/plain": [
       "<pymongo.results.InsertManyResult at 0x7fce4e36efc8>"
      ]
     },
     "execution_count": 8,
     "metadata": {},
     "output_type": "execute_result"
    }
   ],
   "source": [
    "# Use \".to_dict('records')\"in combination with .csv variable to create list of dictionaries data set\n",
    "birthplace_dataset.reset_index(inplace=True)\n",
    "\n",
    "birthplace_dict = birthplace_dataset.to_dict('records')\n",
    "\n",
    "# Insert data from the 'data_dict' variable into the collection using 'collection' variable\n",
    "player_birthplace_collection.insert_many(birthplace_dict)"
   ]
  },
  {
   "cell_type": "code",
   "execution_count": null,
   "metadata": {},
   "outputs": [],
   "source": []
  },
  {
   "cell_type": "code",
   "execution_count": 14,
   "metadata": {},
   "outputs": [],
   "source": [
    "# # CODE TO PRINT OUT CONTENTS OF THE DATABASE\n",
    "# salary_collection = db['player_salary_info']\n",
    "\n",
    "# result = salary_collection.find( {\"Player Name\": \"LeBron James\"} )\n",
    "# # result\n",
    "\n",
    "# for doc in result:\n",
    "#     print (doc)\n",
    "# ======================================================\n",
    "# sal = salary_collection.find()\n",
    "# sal\n",
    "\n",
    "# for x in sal:\n",
    "#     print(x)"
   ]
  },
  {
   "cell_type": "code",
   "execution_count": 15,
   "metadata": {},
   "outputs": [],
   "source": [
    "# After finished with analysis, drop database by uncommenting and running this code\n",
    "# client.drop_database('final_testing_beds_db')"
   ]
  },
  {
   "cell_type": "code",
   "execution_count": 16,
   "metadata": {},
   "outputs": [],
   "source": [
    "# <<variable name>> = db.testing_beds.find({\"<<field>>\":\"<<value>>\"}).pretty()\n"
   ]
  },
  {
   "cell_type": "code",
   "execution_count": null,
   "metadata": {},
   "outputs": [],
   "source": []
  },
  {
   "cell_type": "markdown",
   "metadata": {},
   "source": []
  }
 ],
 "metadata": {
  "kernelspec": {
   "display_name": "Python 3",
   "language": "python",
   "name": "python3"
  },
  "language_info": {
   "codemirror_mode": {
    "name": "ipython",
    "version": 3
   },
   "file_extension": ".py",
   "mimetype": "text/x-python",
   "name": "python",
   "nbconvert_exporter": "python",
   "pygments_lexer": "ipython3",
   "version": "3.6.12"
  }
 },
 "nbformat": 4,
 "nbformat_minor": 4
}

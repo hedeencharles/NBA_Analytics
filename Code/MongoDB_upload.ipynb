{
 "cells": [
  {
   "cell_type": "code",
   "execution_count": 1,
   "metadata": {},
   "outputs": [],
   "source": [
    "# import libraries\n",
    "import csv\n",
    "import pymongo\n",
    "import pandas as pd\n",
    "from pathlib import Path"
   ]
  },
  {
   "cell_type": "code",
   "execution_count": 2,
   "metadata": {},
   "outputs": [],
   "source": [
    "# import csv file\n",
    "salary_dataset = pd.read_excel(\"../Datasets/Player_salary_1990-2017.xlsx\")\n",
    "birthplace_dataset = pd.read_csv(\"../Datasets/final_heatmap.csv\")"
   ]
  },
  {
   "cell_type": "code",
   "execution_count": 3,
   "metadata": {},
   "outputs": [
    {
     "data": {
      "text/html": [
       "<div>\n",
       "<style scoped>\n",
       "    .dataframe tbody tr th:only-of-type {\n",
       "        vertical-align: middle;\n",
       "    }\n",
       "\n",
       "    .dataframe tbody tr th {\n",
       "        vertical-align: top;\n",
       "    }\n",
       "\n",
       "    .dataframe thead th {\n",
       "        text-align: right;\n",
       "    }\n",
       "</style>\n",
       "<table border=\"1\" class=\"dataframe\">\n",
       "  <thead>\n",
       "    <tr style=\"text-align: right;\">\n",
       "      <th></th>\n",
       "      <th>player_name</th>\n",
       "      <th>salary_$</th>\n",
       "      <th>season_start</th>\n",
       "      <th>season_end</th>\n",
       "      <th>Team</th>\n",
       "      <th>team_name</th>\n",
       "    </tr>\n",
       "  </thead>\n",
       "  <tbody>\n",
       "    <tr>\n",
       "      <th>0</th>\n",
       "      <td>A.C. Green</td>\n",
       "      <td>1750000</td>\n",
       "      <td>1990</td>\n",
       "      <td>1991</td>\n",
       "      <td>LAL</td>\n",
       "      <td>Los Angeles Lakers</td>\n",
       "    </tr>\n",
       "    <tr>\n",
       "      <th>1</th>\n",
       "      <td>A.C. Green</td>\n",
       "      <td>1750000</td>\n",
       "      <td>1991</td>\n",
       "      <td>1992</td>\n",
       "      <td>LAL</td>\n",
       "      <td>Los Angeles Lakers</td>\n",
       "    </tr>\n",
       "    <tr>\n",
       "      <th>2</th>\n",
       "      <td>A.C. Green</td>\n",
       "      <td>1750000</td>\n",
       "      <td>1992</td>\n",
       "      <td>1993</td>\n",
       "      <td>LAL</td>\n",
       "      <td>Los Angeles Lakers</td>\n",
       "    </tr>\n",
       "    <tr>\n",
       "      <th>3</th>\n",
       "      <td>A.C. Green</td>\n",
       "      <td>1885000</td>\n",
       "      <td>1993</td>\n",
       "      <td>1994</td>\n",
       "      <td>PHO</td>\n",
       "      <td>Phoenix Suns</td>\n",
       "    </tr>\n",
       "    <tr>\n",
       "      <th>4</th>\n",
       "      <td>A.C. Green</td>\n",
       "      <td>6472600</td>\n",
       "      <td>1994</td>\n",
       "      <td>1995</td>\n",
       "      <td>PHO</td>\n",
       "      <td>Phoenix Suns</td>\n",
       "    </tr>\n",
       "  </tbody>\n",
       "</table>\n",
       "</div>"
      ],
      "text/plain": [
       "  player_name  salary_$  season_start  season_end Team           team_name\n",
       "0  A.C. Green   1750000          1990        1991  LAL  Los Angeles Lakers\n",
       "1  A.C. Green   1750000          1991        1992  LAL  Los Angeles Lakers\n",
       "2  A.C. Green   1750000          1992        1993  LAL  Los Angeles Lakers\n",
       "3  A.C. Green   1885000          1993        1994  PHO        Phoenix Suns\n",
       "4  A.C. Green   6472600          1994        1995  PHO        Phoenix Suns"
      ]
     },
     "execution_count": 3,
     "metadata": {},
     "output_type": "execute_result"
    }
   ],
   "source": [
    "salary_dataset = salary_dataset.rename(columns={'Player Name':'player_name','Salary in $':'salary_$','Season Start':'season_start','Season End':'season_end','Full Team Name':'team_name'})\n",
    "salary_dataset = salary_dataset.drop(axis=1,columns=['Register Value'])\n",
    "salary_dataset.head()"
   ]
  },
  {
   "cell_type": "markdown",
   "metadata": {},
   "source": [
    "# Establish connection to MongoDB"
   ]
  },
  {
   "cell_type": "code",
   "execution_count": 3,
   "metadata": {},
   "outputs": [
    {
     "data": {
      "text/plain": [
       "MongoClient(host=['localhost:27017'], document_class=dict, tz_aware=False, connect=True)"
      ]
     },
     "execution_count": 3,
     "metadata": {},
     "output_type": "execute_result"
    }
   ],
   "source": [
    "# Establish connection to local host 27017\n",
    "conn = 'mongodb://localhost:27017'\n",
    "\n",
    "# Connect to MongoClient\n",
    "client = pymongo.MongoClient(conn)\n",
    "client"
   ]
  },
  {
   "cell_type": "code",
   "execution_count": 5,
   "metadata": {},
   "outputs": [],
   "source": [
    "# Begin by dropping any previous version of the MongoDB instance.\n",
    "client.drop_database('nba_players_db')"
   ]
  },
  {
   "cell_type": "code",
   "execution_count": 4,
   "metadata": {},
   "outputs": [],
   "source": [
    "# Create database by naming db here\n",
    "db = client.nba_players_db"
   ]
  },
  {
   "cell_type": "markdown",
   "metadata": {},
   "source": [
    "# Create collection by naming collection here"
   ]
  },
  {
   "cell_type": "markdown",
   "metadata": {},
   "source": [
    "### Salary collection"
   ]
  },
  {
   "cell_type": "code",
   "execution_count": 7,
   "metadata": {},
   "outputs": [],
   "source": [
    "# Create salary collection\n",
    "salary_collection = db.player_salary_info"
   ]
  },
  {
   "cell_type": "code",
   "execution_count": 8,
   "metadata": {},
   "outputs": [
    {
     "data": {
      "text/plain": [
       "<pymongo.results.InsertManyResult at 0x7fbe7a4bc5c8>"
      ]
     },
     "execution_count": 8,
     "metadata": {},
     "output_type": "execute_result"
    }
   ],
   "source": [
    "# Use \".to_dict('records')\"in combination with .csv variable to create list of dictionaries data set\n",
    "salary_dataset.reset_index(inplace=True)\n",
    "\n",
    "salary_dict = salary_dataset.to_dict('records')\n",
    "\n",
    "# Insert data from the 'data_dict' variable into the collection using 'collection' variable\n",
    "salary_collection.insert_many(salary_dict)"
   ]
  },
  {
   "cell_type": "markdown",
   "metadata": {},
   "source": [
    "### Player WS Collection"
   ]
  },
  {
   "cell_type": "code",
   "execution_count": 9,
   "metadata": {},
   "outputs": [],
   "source": [
    "# Create collection for player WS info 1976-2020\n",
    "playerWS_collection = db.playerWS\n"
   ]
  },
  {
   "cell_type": "code",
   "execution_count": 10,
   "metadata": {},
   "outputs": [],
   "source": [
    "folder = \"../Data/Data_Raw\"\n",
    "\n",
    "year = 1976\n",
    "\n",
    "counter = 0\n",
    "\n",
    "# i = 0\n",
    "\n",
    "for file in Path(folder).glob('*.csv'):\n",
    "    df = pd.read_csv(file)\n",
    "    df.drop(df[df['Tm'] == 'TOT'].index, inplace = True)\n",
    "    df = df[['Player','MP','WS', 'WS/48', 'BPM']]\n",
    "    df = df.groupby(['Player']).sum().reset_index()\n",
    "    df['Player'] = df['Player'].str.replace('?', '')\n",
    "    df['Player'] = df['Player'].str.replace('*', '')\n",
    "    for index, row in df.iterrows():\n",
    "        obj = {\n",
    "            'year': year,\n",
    "            'player': row['Player'],\n",
    "            'mp': row['MP'],\n",
    "            'ws': row['WS'],\n",
    "            'wsper48': row['WS/48'],\n",
    "            'bpm': row['BPM']\n",
    "        }\n",
    "    year += 1   \n",
    "    counter += 1\n",
    "    \n",
    "    \n",
    "    playerWS_collection.insert_one(obj)\n",
    "\n",
    "#     i += 1\n",
    "#     if i == 17:\n",
    "#        break"
   ]
  },
  {
   "cell_type": "code",
   "execution_count": 11,
   "metadata": {},
   "outputs": [],
   "source": [
    "# len(obj)\n",
    "# print(counter)"
   ]
  },
  {
   "cell_type": "markdown",
   "metadata": {},
   "source": [
    "### Player birthplace collection"
   ]
  },
  {
   "cell_type": "code",
   "execution_count": 12,
   "metadata": {},
   "outputs": [],
   "source": [
    "player_birthplace_collection = db.playerBirthplace"
   ]
  },
  {
   "cell_type": "code",
   "execution_count": 13,
   "metadata": {},
   "outputs": [
    {
     "data": {
      "text/plain": [
       "<pymongo.results.InsertManyResult at 0x7fbe77e10cc8>"
      ]
     },
     "execution_count": 13,
     "metadata": {},
     "output_type": "execute_result"
    }
   ],
   "source": [
    "# Use \".to_dict('records')\"in combination with .csv variable to create list of dictionaries data set\n",
    "birthplace_dataset.reset_index(inplace=True)\n",
    "\n",
    "birthplace_dict = birthplace_dataset.to_dict('records')\n",
    "\n",
    "# Insert data from the 'data_dict' variable into the collection using 'collection' variable\n",
    "player_birthplace_collection.insert_many(birthplace_dict)\n"
   ]
  },
  {
   "cell_type": "markdown",
   "metadata": {},
   "source": [
    "### Birthplace with WS and location collection"
   ]
  },
  {
   "cell_type": "code",
   "execution_count": 14,
   "metadata": {},
   "outputs": [],
   "source": [
    "# Old collection, not sure if we'll be using anymore\n",
    "# WS_birthplace_collection = db.WSbirthplace"
   ]
  },
  {
   "cell_type": "code",
   "execution_count": 5,
   "metadata": {},
   "outputs": [],
   "source": [
    "ws_states_collection = db.ws_states"
   ]
  },
  {
   "cell_type": "code",
   "execution_count": 6,
   "metadata": {
    "scrolled": true
   },
   "outputs": [
    {
     "data": {
      "text/html": [
       "<div>\n",
       "<style scoped>\n",
       "    .dataframe tbody tr th:only-of-type {\n",
       "        vertical-align: middle;\n",
       "    }\n",
       "\n",
       "    .dataframe tbody tr th {\n",
       "        vertical-align: top;\n",
       "    }\n",
       "\n",
       "    .dataframe thead th {\n",
       "        text-align: right;\n",
       "    }\n",
       "</style>\n",
       "<table border=\"1\" class=\"dataframe\">\n",
       "  <thead>\n",
       "    <tr style=\"text-align: right;\">\n",
       "      <th></th>\n",
       "      <th>Birth_Place</th>\n",
       "      <th>WS</th>\n",
       "      <th>latitude</th>\n",
       "      <th>longitude</th>\n",
       "    </tr>\n",
       "  </thead>\n",
       "  <tbody>\n",
       "    <tr>\n",
       "      <th>0</th>\n",
       "      <td>Alabama</td>\n",
       "      <td>1291.3</td>\n",
       "      <td>32.318231</td>\n",
       "      <td>-86.902298</td>\n",
       "    </tr>\n",
       "    <tr>\n",
       "      <th>1</th>\n",
       "      <td>Alaska</td>\n",
       "      <td>28.5</td>\n",
       "      <td>63.588753</td>\n",
       "      <td>-154.493062</td>\n",
       "    </tr>\n",
       "    <tr>\n",
       "      <th>2</th>\n",
       "      <td>Argentina</td>\n",
       "      <td>93.2</td>\n",
       "      <td>-38.416097</td>\n",
       "      <td>-63.616672</td>\n",
       "    </tr>\n",
       "    <tr>\n",
       "      <th>3</th>\n",
       "      <td>Arizona</td>\n",
       "      <td>100.6</td>\n",
       "      <td>34.048928</td>\n",
       "      <td>-111.093731</td>\n",
       "    </tr>\n",
       "    <tr>\n",
       "      <th>4</th>\n",
       "      <td>Arkansas</td>\n",
       "      <td>714.4</td>\n",
       "      <td>35.201050</td>\n",
       "      <td>-91.831833</td>\n",
       "    </tr>\n",
       "  </tbody>\n",
       "</table>\n",
       "</div>"
      ],
      "text/plain": [
       "  Birth_Place      WS   latitude   longitude\n",
       "0     Alabama  1291.3  32.318231  -86.902298\n",
       "1      Alaska    28.5  63.588753 -154.493062\n",
       "2   Argentina    93.2 -38.416097  -63.616672\n",
       "3     Arizona   100.6  34.048928 -111.093731\n",
       "4    Arkansas   714.4  35.201050  -91.831833"
      ]
     },
     "execution_count": 6,
     "metadata": {},
     "output_type": "execute_result"
    }
   ],
   "source": [
    "birthplace_dataset.head()"
   ]
  },
  {
   "cell_type": "code",
   "execution_count": 8,
   "metadata": {},
   "outputs": [],
   "source": [
    "states_df = pd.read_csv('../Data/states.csv')"
   ]
  },
  {
   "cell_type": "code",
   "execution_count": 9,
   "metadata": {},
   "outputs": [
    {
     "data": {
      "text/html": [
       "<div>\n",
       "<style scoped>\n",
       "    .dataframe tbody tr th:only-of-type {\n",
       "        vertical-align: middle;\n",
       "    }\n",
       "\n",
       "    .dataframe tbody tr th {\n",
       "        vertical-align: top;\n",
       "    }\n",
       "\n",
       "    .dataframe thead th {\n",
       "        text-align: right;\n",
       "    }\n",
       "</style>\n",
       "<table border=\"1\" class=\"dataframe\">\n",
       "  <thead>\n",
       "    <tr style=\"text-align: right;\">\n",
       "      <th></th>\n",
       "      <th>abr</th>\n",
       "      <th>state</th>\n",
       "    </tr>\n",
       "  </thead>\n",
       "  <tbody>\n",
       "    <tr>\n",
       "      <th>0</th>\n",
       "      <td>AA</td>\n",
       "      <td>Armed Forces (the) Americas</td>\n",
       "    </tr>\n",
       "    <tr>\n",
       "      <th>1</th>\n",
       "      <td>AB</td>\n",
       "      <td>Alberta</td>\n",
       "    </tr>\n",
       "    <tr>\n",
       "      <th>2</th>\n",
       "      <td>AE</td>\n",
       "      <td>Armed Forces Europe</td>\n",
       "    </tr>\n",
       "    <tr>\n",
       "      <th>3</th>\n",
       "      <td>AK</td>\n",
       "      <td>Alaska</td>\n",
       "    </tr>\n",
       "    <tr>\n",
       "      <th>4</th>\n",
       "      <td>AL</td>\n",
       "      <td>Alabama</td>\n",
       "    </tr>\n",
       "    <tr>\n",
       "      <th>...</th>\n",
       "      <td>...</td>\n",
       "      <td>...</td>\n",
       "    </tr>\n",
       "    <tr>\n",
       "      <th>71</th>\n",
       "      <td>WA</td>\n",
       "      <td>Washington</td>\n",
       "    </tr>\n",
       "    <tr>\n",
       "      <th>72</th>\n",
       "      <td>WI</td>\n",
       "      <td>Wisconsin</td>\n",
       "    </tr>\n",
       "    <tr>\n",
       "      <th>73</th>\n",
       "      <td>WV</td>\n",
       "      <td>West Virginia</td>\n",
       "    </tr>\n",
       "    <tr>\n",
       "      <th>74</th>\n",
       "      <td>WY</td>\n",
       "      <td>Wyoming</td>\n",
       "    </tr>\n",
       "    <tr>\n",
       "      <th>75</th>\n",
       "      <td>YT</td>\n",
       "      <td>Yukon</td>\n",
       "    </tr>\n",
       "  </tbody>\n",
       "</table>\n",
       "<p>76 rows × 2 columns</p>\n",
       "</div>"
      ],
      "text/plain": [
       "   abr                        state\n",
       "0   AA  Armed Forces (the) Americas\n",
       "1   AB                      Alberta\n",
       "2   AE          Armed Forces Europe\n",
       "3   AK                       Alaska\n",
       "4   AL                      Alabama\n",
       "..  ..                          ...\n",
       "71  WA                   Washington\n",
       "72  WI                    Wisconsin\n",
       "73  WV                West Virginia\n",
       "74  WY                      Wyoming\n",
       "75  YT                        Yukon\n",
       "\n",
       "[76 rows x 2 columns]"
      ]
     },
     "execution_count": 9,
     "metadata": {},
     "output_type": "execute_result"
    }
   ],
   "source": [
    "states_df"
   ]
  },
  {
   "cell_type": "code",
   "execution_count": 12,
   "metadata": {},
   "outputs": [],
   "source": [
    "for index, row in birthplace_dataset.iterrows():\n",
    "    for i, r in states_df.iterrows():\n",
    "        if row['Birth_Place'] == r['state']:\n",
    "            birthplace_dataset.loc[index, 'abreviation'] = r['abr']"
   ]
  },
  {
   "cell_type": "code",
   "execution_count": 13,
   "metadata": {},
   "outputs": [
    {
     "data": {
      "text/html": [
       "<div>\n",
       "<style scoped>\n",
       "    .dataframe tbody tr th:only-of-type {\n",
       "        vertical-align: middle;\n",
       "    }\n",
       "\n",
       "    .dataframe tbody tr th {\n",
       "        vertical-align: top;\n",
       "    }\n",
       "\n",
       "    .dataframe thead th {\n",
       "        text-align: right;\n",
       "    }\n",
       "</style>\n",
       "<table border=\"1\" class=\"dataframe\">\n",
       "  <thead>\n",
       "    <tr style=\"text-align: right;\">\n",
       "      <th></th>\n",
       "      <th>Birth_Place</th>\n",
       "      <th>WS</th>\n",
       "      <th>latitude</th>\n",
       "      <th>longitude</th>\n",
       "      <th>abreviation</th>\n",
       "    </tr>\n",
       "  </thead>\n",
       "  <tbody>\n",
       "    <tr>\n",
       "      <th>0</th>\n",
       "      <td>Alabama</td>\n",
       "      <td>1291.3</td>\n",
       "      <td>32.318231</td>\n",
       "      <td>-86.902298</td>\n",
       "      <td>AL</td>\n",
       "    </tr>\n",
       "    <tr>\n",
       "      <th>1</th>\n",
       "      <td>Alaska</td>\n",
       "      <td>28.5</td>\n",
       "      <td>63.588753</td>\n",
       "      <td>-154.493062</td>\n",
       "      <td>AK</td>\n",
       "    </tr>\n",
       "    <tr>\n",
       "      <th>2</th>\n",
       "      <td>Argentina</td>\n",
       "      <td>93.2</td>\n",
       "      <td>-38.416097</td>\n",
       "      <td>-63.616672</td>\n",
       "      <td>NaN</td>\n",
       "    </tr>\n",
       "    <tr>\n",
       "      <th>3</th>\n",
       "      <td>Arizona</td>\n",
       "      <td>100.6</td>\n",
       "      <td>34.048928</td>\n",
       "      <td>-111.093731</td>\n",
       "      <td>AZ</td>\n",
       "    </tr>\n",
       "    <tr>\n",
       "      <th>4</th>\n",
       "      <td>Arkansas</td>\n",
       "      <td>714.4</td>\n",
       "      <td>35.201050</td>\n",
       "      <td>-91.831833</td>\n",
       "      <td>AR</td>\n",
       "    </tr>\n",
       "    <tr>\n",
       "      <th>...</th>\n",
       "      <td>...</td>\n",
       "      <td>...</td>\n",
       "      <td>...</td>\n",
       "      <td>...</td>\n",
       "      <td>...</td>\n",
       "    </tr>\n",
       "    <tr>\n",
       "      <th>106</th>\n",
       "      <td>Virginia</td>\n",
       "      <td>1006.8</td>\n",
       "      <td>37.431573</td>\n",
       "      <td>-78.656894</td>\n",
       "      <td>VA</td>\n",
       "    </tr>\n",
       "    <tr>\n",
       "      <th>107</th>\n",
       "      <td>Washington</td>\n",
       "      <td>779.2</td>\n",
       "      <td>47.751074</td>\n",
       "      <td>-120.740139</td>\n",
       "      <td>WA</td>\n",
       "    </tr>\n",
       "    <tr>\n",
       "      <th>108</th>\n",
       "      <td>West Virginia</td>\n",
       "      <td>83.2</td>\n",
       "      <td>38.597626</td>\n",
       "      <td>-80.454903</td>\n",
       "      <td>WV</td>\n",
       "    </tr>\n",
       "    <tr>\n",
       "      <th>109</th>\n",
       "      <td>Wisconsin</td>\n",
       "      <td>438.4</td>\n",
       "      <td>43.784440</td>\n",
       "      <td>-88.787868</td>\n",
       "      <td>WI</td>\n",
       "    </tr>\n",
       "    <tr>\n",
       "      <th>110</th>\n",
       "      <td>Wyoming</td>\n",
       "      <td>23.1</td>\n",
       "      <td>43.075968</td>\n",
       "      <td>-107.290284</td>\n",
       "      <td>WY</td>\n",
       "    </tr>\n",
       "  </tbody>\n",
       "</table>\n",
       "<p>111 rows × 5 columns</p>\n",
       "</div>"
      ],
      "text/plain": [
       "       Birth_Place      WS   latitude   longitude abreviation\n",
       "0          Alabama  1291.3  32.318231  -86.902298          AL\n",
       "1           Alaska    28.5  63.588753 -154.493062          AK\n",
       "2        Argentina    93.2 -38.416097  -63.616672         NaN\n",
       "3          Arizona   100.6  34.048928 -111.093731          AZ\n",
       "4         Arkansas   714.4  35.201050  -91.831833          AR\n",
       "..             ...     ...        ...         ...         ...\n",
       "106       Virginia  1006.8  37.431573  -78.656894          VA\n",
       "107     Washington   779.2  47.751074 -120.740139          WA\n",
       "108  West Virginia    83.2  38.597626  -80.454903          WV\n",
       "109      Wisconsin   438.4  43.784440  -88.787868          WI\n",
       "110        Wyoming    23.1  43.075968 -107.290284          WY\n",
       "\n",
       "[111 rows x 5 columns]"
      ]
     },
     "execution_count": 13,
     "metadata": {},
     "output_type": "execute_result"
    }
   ],
   "source": [
    "birthplace_dataset"
   ]
  },
  {
   "cell_type": "code",
   "execution_count": 14,
   "metadata": {},
   "outputs": [],
   "source": [
    "# Creating an object from the DF\n",
    "for index, row in birthplace_dataset.iterrows():\n",
    "    post = {\n",
    "        'birthplace': row['Birth_Place'],\n",
    "        'win_shares': row['WS'],\n",
    "        'long': row['longitude'],\n",
    "        'lat': row['latitude'],\n",
    "        'abr' : str(row['abreviation'])\n",
    "    }\n",
    "    \n",
    "    ws_states_collection.insert_one(post)"
   ]
  },
  {
   "cell_type": "code",
   "execution_count": 15,
   "metadata": {},
   "outputs": [],
   "source": [
    "# This is the old collection, still in the DB, but may not use anymore. \n",
    "\n",
    "# # Creating an object from the DF\n",
    "# for index, row in birthplace_dataset.iterrows():\n",
    "#     heatmap = {\n",
    "#         'birthplace': row['Birth_Place'],\n",
    "#         'win_shares': row['WS'],\n",
    "#         'long': row['longitude'],\n",
    "#         'lat': row['latitude'], \n",
    "#     }\n",
    "    \n",
    "#     WS_birthplace_collection.insert_one(heatmap)"
   ]
  },
  {
   "cell_type": "code",
   "execution_count": 16,
   "metadata": {},
   "outputs": [],
   "source": [
    "# # CODE TO PRINT OUT CONTENTS OF THE DATABASE\n",
    "# salary_collection = db['player_salary_info']\n",
    "\n",
    "# result = salary_collection.find( {\"Player Name\": \"LeBron James\"} )\n",
    "# # result\n",
    "\n",
    "# for doc in result:\n",
    "#     print (doc)\n",
    "# ======================================================\n",
    "# sal = salary_collection.find()\n",
    "# sal\n",
    "\n",
    "# for x in sal:\n",
    "#     print(x)"
   ]
  },
  {
   "cell_type": "code",
   "execution_count": 17,
   "metadata": {},
   "outputs": [],
   "source": [
    "# After finished with analysis, drop database by uncommenting and running this code\n",
    "# client.drop_database('final_testing_beds_db')"
   ]
  },
  {
   "cell_type": "code",
   "execution_count": 18,
   "metadata": {},
   "outputs": [],
   "source": [
    "# <<variable name>> = db.testing_beds.find({\"<<field>>\":\"<<value>>\"}).pretty()\n"
   ]
  },
  {
   "cell_type": "code",
   "execution_count": null,
   "metadata": {},
   "outputs": [],
   "source": []
  },
  {
   "cell_type": "markdown",
   "metadata": {},
   "source": []
  }
 ],
 "metadata": {
  "kernelspec": {
   "display_name": "Python 3",
   "language": "python",
   "name": "python3"
  },
  "language_info": {
   "codemirror_mode": {
    "name": "ipython",
    "version": 3
   },
   "file_extension": ".py",
   "mimetype": "text/x-python",
   "name": "python",
   "nbconvert_exporter": "python",
   "pygments_lexer": "ipython3",
   "version": "3.6.12"
  }
 },
 "nbformat": 4,
 "nbformat_minor": 4
}

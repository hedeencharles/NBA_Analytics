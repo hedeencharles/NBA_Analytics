{
 "cells": [
  {
   "cell_type": "code",
   "execution_count": 1,
   "metadata": {},
   "outputs": [
    {
     "name": "stdout",
     "output_type": "stream",
     "text": [
      "Requirement already satisfied: xlrd in c:\\users\\15309\\anaconda3\\envs\\project_2\\lib\\site-packages (1.2.0)\n",
      "Note: you may need to restart the kernel to use updated packages.\n"
     ]
    }
   ],
   "source": [
    "pip install xlrd"
   ]
  },
  {
   "cell_type": "code",
   "execution_count": 2,
   "metadata": {},
   "outputs": [],
   "source": [
    "# import libraries\n",
    "import csv\n",
    "import pymongo\n",
    "import pandas as pd\n",
    "from pathlib import Path"
   ]
  },
  {
   "cell_type": "code",
   "execution_count": 2,
   "metadata": {},
   "outputs": [],
   "source": [
    "# import dataset file\n",
    "salary_dataset = pd.read_excel(\"../Datasets/Player_salary_1990-2017.xlsx\")\n",
    "birthplace_dataset = pd.read_csv(\"../Datasets/final_heatmap.csv\")\n",
    "yearlyBirthplace_dataset = pd.read_csv(\"../Datasets/bar_chart_race.csv\")\n",
    "states_df = pd.read_csv('../Datasets/states.csv')"
   ]
  },
  {
   "cell_type": "code",
   "execution_count": 3,
   "metadata": {},
   "outputs": [],
   "source": [
    "salary_dataset = salary_dataset.rename(columns={'Player Name':'player_name','Salary in $':'salary_$','Season Start':'season_start','Season End':'season_end','Full Team Name':'team_name'})\n",
    "salary_dataset = salary_dataset.drop(axis=1,columns=['Register Value'])"
   ]
  },
  {
   "cell_type": "code",
   "execution_count": 4,
   "metadata": {},
   "outputs": [
    {
     "name": "stdout",
     "output_type": "stream",
     "text": [
      "14559\n"
     ]
    }
   ],
   "source": [
    "print(len(yearlyBirthplace_dataset))"
   ]
  },
  {
   "cell_type": "markdown",
   "metadata": {},
   "source": [
    "# Establish connection to MongoDB"
   ]
  },
  {
   "cell_type": "code",
   "execution_count": 5,
   "metadata": {},
   "outputs": [
    {
     "data": {
      "text/plain": [
       "MongoClient(host=['localhost:27017'], document_class=dict, tz_aware=False, connect=True)"
      ]
     },
     "execution_count": 5,
     "metadata": {},
     "output_type": "execute_result"
    }
   ],
   "source": [
    "# Establish connection to local host 27017\n",
    "conn = 'mongodb://localhost:27017'\n",
    "\n",
    "# Connect to MongoClient\n",
    "client = pymongo.MongoClient(conn)\n",
    "client"
   ]
  },
  {
   "cell_type": "code",
   "execution_count": 6,
   "metadata": {},
   "outputs": [],
   "source": [
    "# Begin by dropping any previous version of the MongoDB instance.\n",
    "client.drop_database('nba_players_db')"
   ]
  },
  {
   "cell_type": "code",
   "execution_count": 7,
   "metadata": {},
   "outputs": [],
   "source": [
    "# Create database by naming db here\n",
    "db = client.nba_players_db"
   ]
  },
  {
   "cell_type": "markdown",
   "metadata": {},
   "source": [
    "# Create collection by naming collection here"
   ]
  },
  {
   "cell_type": "markdown",
   "metadata": {},
   "source": [
    "### Salary collection"
   ]
  },
  {
   "cell_type": "code",
   "execution_count": 8,
   "metadata": {},
   "outputs": [],
   "source": [
    "# Create salary collection\n",
    "salary_collection = db.player_salary_info"
   ]
  },
  {
   "cell_type": "code",
   "execution_count": 9,
   "metadata": {},
   "outputs": [
    {
     "data": {
      "text/plain": [
       "<pymongo.results.InsertManyResult at 0x7f8b54948608>"
      ]
     },
     "execution_count": 9,
     "metadata": {},
     "output_type": "execute_result"
    }
   ],
   "source": [
    "# Use \".to_dict('records')\"in combination with .csv variable to create list of dictionaries data set\n",
    "salary_dataset.reset_index(inplace=True)\n",
    "\n",
    "salary_dict = salary_dataset.to_dict('records')\n",
    "\n",
    "# Insert data from the 'data_dict' variable into the collection using 'collection' variable\n",
    "salary_collection.insert_many(salary_dict)"
   ]
  },
  {
   "cell_type": "markdown",
   "metadata": {},
   "source": [
    "### Player WS Collection"
   ]
  },
  {
   "cell_type": "code",
   "execution_count": 10,
   "metadata": {},
   "outputs": [],
   "source": [
    "# Create collection for player WS info 1976-2020\n",
    "# playerWS_collection = db.playerWS"
   ]
  },
  {
   "cell_type": "code",
   "execution_count": 11,
   "metadata": {},
   "outputs": [],
   "source": [
    "# folder = \"../Data/Data_Raw\"\n",
    "\n",
    "# year = 1976\n",
    "\n",
    "# counter = 0\n",
    "\n",
    "# # i = 0\n",
    "\n",
    "# for file in Path(folder).glob('*.csv'):\n",
    "#     df = pd.read_csv(file)\n",
    "#     df.drop(df[df['Tm'] == 'TOT'].index, inplace = True)\n",
    "#     df = df[['Player','MP','WS', 'WS/48', 'BPM']]\n",
    "#     df = df.groupby(['Player']).sum().reset_index()\n",
    "#     df['Player'] = df['Player'].str.replace('?', '')\n",
    "#     df['Player'] = df['Player'].str.replace('*', '')\n",
    "#     for index, row in df.iterrows():\n",
    "#         obj = {\n",
    "#             'year': year,\n",
    "#             'player': row['Player'],\n",
    "#             'mp': row['MP'],\n",
    "#             'ws': row['WS'],\n",
    "#             'wsper48': row['WS/48'],\n",
    "#             'bpm': row['BPM']\n",
    "#         }\n",
    "#     year += 1   \n",
    "#     counter += 1\n",
    "    \n",
    "    \n",
    "#     playerWS_collection.insert_one(obj)\n",
    "\n",
    "# #     i += 1\n",
    "# #     if i == 17:\n",
    "# #        break"
   ]
  },
  {
   "cell_type": "code",
   "execution_count": 12,
   "metadata": {},
   "outputs": [],
   "source": [
    "# len(obj)\n",
    "# print(counter)"
   ]
  },
  {
   "cell_type": "markdown",
   "metadata": {},
   "source": [
    "### Player birthplace collection"
   ]
  },
  {
   "cell_type": "code",
   "execution_count": 13,
   "metadata": {},
   "outputs": [],
   "source": [
    "player_birthplace_collection = db.playerBirthplace"
   ]
  },
  {
   "cell_type": "code",
   "execution_count": 14,
   "metadata": {},
   "outputs": [
    {
     "data": {
      "text/plain": [
       "<pymongo.results.InsertManyResult at 0x7f8b53dabd48>"
      ]
     },
     "execution_count": 14,
     "metadata": {},
     "output_type": "execute_result"
    }
   ],
   "source": [
    "# Use \".to_dict('records')\"in combination with .csv variable to create list of dictionaries data set\n",
    "birthplace_dataset.reset_index(inplace=True)\n",
    "\n",
    "birthplace_dict = birthplace_dataset.to_dict('records')\n",
    "\n",
    "# Insert data from the 'data_dict' variable into the collection using 'collection' variable\n",
    "player_birthplace_collection.insert_many(birthplace_dict)\n"
   ]
  },
  {
   "cell_type": "markdown",
   "metadata": {},
   "source": [
    "### Total WinShare by state collection"
   ]
  },
  {
   "cell_type": "code",
   "execution_count": 15,
   "metadata": {},
   "outputs": [],
   "source": [
    "ws_states_collection = db.ws_states"
   ]
  },
  {
   "cell_type": "code",
   "execution_count": 16,
   "metadata": {},
   "outputs": [],
   "source": [
    "# birthplace_dataset"
   ]
  },
  {
   "cell_type": "code",
   "execution_count": 17,
   "metadata": {},
   "outputs": [],
   "source": [
    "# states_df"
   ]
  },
  {
   "cell_type": "code",
   "execution_count": 18,
   "metadata": {},
   "outputs": [],
   "source": [
    "for index, row in birthplace_dataset.iterrows():\n",
    "    for i, r in states_df.iterrows():\n",
    "        if row['Birth_Place'] == r['state']:\n",
    "            birthplace_dataset.loc[index, 'abreviation'] = r['abr']"
   ]
  },
  {
   "cell_type": "code",
   "execution_count": 19,
   "metadata": {},
   "outputs": [],
   "source": [
    "# birthplace_dataset"
   ]
  },
  {
   "cell_type": "code",
   "execution_count": 20,
   "metadata": {},
   "outputs": [],
   "source": [
    "# Creating an object from the DF\n",
    "for index, row in birthplace_dataset.iterrows():\n",
    "    post = {\n",
    "        'birthplace': row['Birth_Place'],\n",
    "        'win_shares': row['WS'],\n",
    "        'long': row['longitude'],\n",
    "        'lat': row['latitude'],\n",
    "        'abr' : str(row['abreviation'])\n",
    "    }\n",
    "    \n",
    "    ws_states_collection.insert_one(post)"
   ]
  },
  {
   "cell_type": "markdown",
   "metadata": {},
   "source": [
    "### Birthplace by Year collection"
   ]
  },
  {
   "cell_type": "code",
   "execution_count": 21,
   "metadata": {},
   "outputs": [],
   "source": [
    "birthplace_by_year_collection = db.yearlyBirthplace"
   ]
  },
  {
   "cell_type": "code",
   "execution_count": 22,
   "metadata": {},
   "outputs": [
    {
     "data": {
      "text/plain": [
       "<pymongo.results.InsertManyResult at 0x7f8b53fcf9c8>"
      ]
     },
     "execution_count": 22,
     "metadata": {},
     "output_type": "execute_result"
    }
   ],
   "source": [
    "# Use \".to_dict('records')\"in combination with .csv variable to create list of dictionaries data set\n",
    "yearlyBirthplace_dataset.reset_index(inplace=True)\n",
    "\n",
    "yearlyBirthplace_dict = yearlyBirthplace_dataset.to_dict('records')\n",
    "\n",
    "# Insert data from the 'data_dict' variable into the collection using 'collection' variable\n",
    "birthplace_by_year_collection.insert_many(yearlyBirthplace_dict)\n"
   ]
  },
  {
   "cell_type": "code",
   "execution_count": 23,
   "metadata": {},
   "outputs": [],
   "source": [
    "# # CODE TO PRINT OUT CONTENTS OF THE DATABASE\n",
    "# salary_collection = db['player_salary_info']\n",
    "\n",
    "# result = salary_collection.find( {\"Player Name\": \"LeBron James\"} )\n",
    "# # result\n",
    "\n",
    "# for doc in result:\n",
    "#     print (doc)\n",
    "# ======================================================\n",
    "# sal = salary_collection.find()\n",
    "# sal\n",
    "\n",
    "# for x in sal:\n",
    "#     print(x)"
   ]
  },
  {
   "cell_type": "code",
   "execution_count": 24,
   "metadata": {},
   "outputs": [],
   "source": [
    "# After finished with analysis, drop database by uncommenting and running this code\n",
    "# client.drop_database('final_testing_beds_db')"
   ]
  },
  {
   "cell_type": "code",
   "execution_count": 25,
   "metadata": {},
   "outputs": [],
   "source": [
    "# <<variable name>> = db.testing_beds.find({\"<<field>>\":\"<<value>>\"}).pretty()\n"
   ]
  },
  {
   "cell_type": "code",
   "execution_count": null,
   "metadata": {},
   "outputs": [],
   "source": []
  },
  {
   "cell_type": "markdown",
   "metadata": {},
   "source": []
  }
 ],
 "metadata": {
  "kernelspec": {
   "display_name": "Python 3",
   "language": "python",
   "name": "python3"
  },
  "language_info": {
   "codemirror_mode": {
    "name": "ipython",
    "version": 3
   },
   "file_extension": ".py",
   "mimetype": "text/x-python",
   "name": "python",
   "nbconvert_exporter": "python",
   "pygments_lexer": "ipython3",
   "version": "3.6.12"
  }
 },
 "nbformat": 4,
 "nbformat_minor": 4
}

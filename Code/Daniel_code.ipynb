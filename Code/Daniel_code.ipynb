{
 "cells": [
  {
   "cell_type": "code",
   "execution_count": 8,
   "metadata": {},
   "outputs": [],
   "source": [
    "import pandas as pd\n",
    "import numpy as np\n",
    "import matplotlib as plt\n",
    "from pathlib import Path"
   ]
  },
  {
   "cell_type": "code",
<<<<<<< HEAD
   "execution_count": 2,
   "metadata": {},
   "outputs": [],
   "source": [
    "df = pd.read_csv('../Data/Data_Raw/1990-1991.csv') \n",
    "df.drop(df[df['Tm'] == 'TOT'].index, inplace = True)\n",
    "df = df[['Player','MP','WS', 'WS/48', 'BPM']]\n",
    "df = df.groupby(['Player']).sum().reset_index()"
=======
   "execution_count": 9,
   "metadata": {},
   "outputs": [],
   "source": [
    "# df = pd.read_csv(\"C:\\Users\\15309\\OneDrive\\Desktop\\Project_2_data\\group_project2\\Data\\Data_Raw\\1990-1991.csv\") \n",
    "# df.drop(df[df['Tm'] == 'TOT'].index, inplace = True)\n",
    "# df = df[['Player','MP','WS', 'WS/48', 'BPM']]\n",
    "# df = df.groupby(['Player']).sum().reset_index()\n",
    "# df.to_csv('Data_Clean/90_91_clean.csv', index=False)"
>>>>>>> 9556a60ec5444ce7bee787322dfc894bb8bc0787
   ]
  },
  {
   "cell_type": "code",
<<<<<<< HEAD
   "execution_count": 3,
   "metadata": {},
   "outputs": [
    {
     "data": {
      "text/html": [
       "<div>\n",
       "<style scoped>\n",
       "    .dataframe tbody tr th:only-of-type {\n",
       "        vertical-align: middle;\n",
       "    }\n",
       "\n",
       "    .dataframe tbody tr th {\n",
       "        vertical-align: top;\n",
       "    }\n",
       "\n",
       "    .dataframe thead th {\n",
       "        text-align: right;\n",
       "    }\n",
       "</style>\n",
       "<table border=\"1\" class=\"dataframe\">\n",
       "  <thead>\n",
       "    <tr style=\"text-align: right;\">\n",
       "      <th></th>\n",
       "      <th>Player</th>\n",
       "      <th>MP</th>\n",
       "      <th>WS</th>\n",
       "      <th>WS/48</th>\n",
       "      <th>BPM</th>\n",
       "    </tr>\n",
       "  </thead>\n",
       "  <tbody>\n",
       "    <tr>\n",
       "      <th>0</th>\n",
       "      <td>A.C. Green</td>\n",
       "      <td>2164</td>\n",
       "      <td>6.1</td>\n",
       "      <td>0.135</td>\n",
       "      <td>0.0</td>\n",
       "    </tr>\n",
       "    <tr>\n",
       "      <th>1</th>\n",
       "      <td>A.J. English</td>\n",
       "      <td>1443</td>\n",
       "      <td>0.2</td>\n",
       "      <td>0.008</td>\n",
       "      <td>-3.9</td>\n",
       "    </tr>\n",
       "    <tr>\n",
       "      <th>2</th>\n",
       "      <td>A.J. Wynder</td>\n",
       "      <td>39</td>\n",
       "      <td>0.0</td>\n",
       "      <td>-0.051</td>\n",
       "      <td>-5.3</td>\n",
       "    </tr>\n",
       "    <tr>\n",
       "      <th>3</th>\n",
       "      <td>Adrian Caldwell</td>\n",
       "      <td>343</td>\n",
       "      <td>0.1</td>\n",
       "      <td>0.021</td>\n",
       "      <td>-3.1</td>\n",
       "    </tr>\n",
       "    <tr>\n",
       "      <th>4</th>\n",
       "      <td>Adrian Dantley</td>\n",
       "      <td>126</td>\n",
       "      <td>0.1</td>\n",
       "      <td>0.052</td>\n",
       "      <td>-4.2</td>\n",
       "    </tr>\n",
       "    <tr>\n",
       "      <th>...</th>\n",
       "      <td>...</td>\n",
       "      <td>...</td>\n",
       "      <td>...</td>\n",
       "      <td>...</td>\n",
       "      <td>...</td>\n",
       "    </tr>\n",
       "    <tr>\n",
       "      <th>355</th>\n",
       "      <td>Willie Anderson</td>\n",
       "      <td>2592</td>\n",
       "      <td>4.8</td>\n",
       "      <td>0.089</td>\n",
       "      <td>0.1</td>\n",
       "    </tr>\n",
       "    <tr>\n",
       "      <th>356</th>\n",
       "      <td>Willie Burton</td>\n",
       "      <td>1928</td>\n",
       "      <td>2.1</td>\n",
       "      <td>0.052</td>\n",
       "      <td>-3.4</td>\n",
       "    </tr>\n",
       "    <tr>\n",
       "      <th>357</th>\n",
       "      <td>Winston Bennett</td>\n",
       "      <td>334</td>\n",
       "      <td>0.2</td>\n",
       "      <td>0.026</td>\n",
       "      <td>-5.5</td>\n",
       "    </tr>\n",
       "    <tr>\n",
       "      <th>358</th>\n",
       "      <td>Winston Garland</td>\n",
       "      <td>1702</td>\n",
       "      <td>2.4</td>\n",
       "      <td>0.069</td>\n",
       "      <td>-0.9</td>\n",
       "    </tr>\n",
       "    <tr>\n",
       "      <th>359</th>\n",
       "      <td>Šarnas Mariulionis</td>\n",
       "      <td>987</td>\n",
       "      <td>2.5</td>\n",
       "      <td>0.121</td>\n",
       "      <td>0.1</td>\n",
       "    </tr>\n",
       "  </tbody>\n",
       "</table>\n",
       "<p>360 rows × 5 columns</p>\n",
       "</div>"
      ],
      "text/plain": [
       "                 Player    MP   WS  WS/48  BPM\n",
       "0            A.C. Green  2164  6.1  0.135  0.0\n",
       "1          A.J. English  1443  0.2  0.008 -3.9\n",
       "2           A.J. Wynder    39  0.0 -0.051 -5.3\n",
       "3       Adrian Caldwell   343  0.1  0.021 -3.1\n",
       "4        Adrian Dantley   126  0.1  0.052 -4.2\n",
       "..                  ...   ...  ...    ...  ...\n",
       "355     Willie Anderson  2592  4.8  0.089  0.1\n",
       "356       Willie Burton  1928  2.1  0.052 -3.4\n",
       "357     Winston Bennett   334  0.2  0.026 -5.5\n",
       "358     Winston Garland  1702  2.4  0.069 -0.9\n",
       "359  Šarnas Mariulionis   987  2.5  0.121  0.1\n",
       "\n",
       "[360 rows x 5 columns]"
      ]
     },
     "execution_count": 3,
     "metadata": {},
     "output_type": "execute_result"
    }
   ],
=======
   "execution_count": 10,
   "metadata": {},
   "outputs": [],
>>>>>>> 9556a60ec5444ce7bee787322dfc894bb8bc0787
   "source": [
    "# df['Player'] = df['Player'].str.replace('?', '')\n",
    "# df['Player'] = df['Player'].str.replace('*', '')\n",
    "# df"
   ]
  },
  {
   "cell_type": "code",
<<<<<<< HEAD
   "execution_count": 4,
=======
   "execution_count": 11,
>>>>>>> 9556a60ec5444ce7bee787322dfc894bb8bc0787
   "metadata": {},
   "outputs": [],
   "source": [
    "# folder=\"group_project2/Data/Data_Raw\"\n",
    "\n",
    "\n",
    "# for file in Path(folder).glob('*.csv'):\n",
    "#     for index, row in df.iterrows():\n",
    "#         obj = {\n",
    "#         'player': row['Player'],\n",
    "#         'mp': row['MP'],\n",
    "#         'ws': row['WS'],\n",
    "#         'wsper48': row['WS/48'],\n",
    "#         'bpm': row['BPM']\n",
    "#     }"
   ]
  },
  {
   "cell_type": "code",
<<<<<<< HEAD
   "execution_count": 5,
   "metadata": {},
   "outputs": [
    {
     "data": {
      "text/plain": [
       "{'player': 'Šarnas Mariulionis',\n",
       " 'mp': 987,\n",
       " 'ws': 2.5,\n",
       " 'wsper48': 0.121,\n",
       " 'bpm': 0.1}"
      ]
     },
     "execution_count": 5,
     "metadata": {},
     "output_type": "execute_result"
    }
   ],
=======
   "execution_count": 12,
   "metadata": {},
   "outputs": [],
>>>>>>> 9556a60ec5444ce7bee787322dfc894bb8bc0787
   "source": [
    "# obj"
   ]
  },
  {
   "cell_type": "code",
<<<<<<< HEAD
   "execution_count": 6,
   "metadata": {},
   "outputs": [],
   "source": [
    "folder=\"../Data/Data_Raw\"\n",
=======
   "execution_count": 15,
   "metadata": {},
   "outputs": [],
   "source": [
    "folder=\"group_project2/Data/Data_Raw\"\n",
>>>>>>> 9556a60ec5444ce7bee787322dfc894bb8bc0787
    "\n",
    "year = 1976\n",
    "\n",
    "#i = 0\n",
    "\n",
    "for file in Path(folder).glob('*.csv'):\n",
    "    df = pd.read_csv(file)\n",
    "    df.drop(df[df['Tm'] == 'TOT'].index, inplace = True)\n",
    "    df = df[['Player','MP','WS', 'WS/48', 'BPM']]\n",
    "    df = df.groupby(['Player']).sum().reset_index()\n",
    "    df['Player'] = df['Player'].str.replace('?', '')\n",
    "    df['Player'] = df['Player'].str.replace('*', '')\n",
    "    for index, row in df.iterrows():\n",
    "        obj = {\n",
    "            'year': year,\n",
    "            'player': row['Player'],\n",
    "            'mp': row['MP'],\n",
    "            'ws': row['WS'],\n",
    "            'wsper48': row['WS/48'],\n",
    "            'bpm': row['BPM']\n",
    "        }\n",
    "    year += 1   \n",
    "    \n",
    "#     collection.insert_one(obj)\n",
    "\n",
    "    #i += 1\n",
    "    #if i == 17:\n",
    "     #   break"
   ]
  },
  {
   "cell_type": "code",
<<<<<<< HEAD
   "execution_count": 9,
   "metadata": {},
   "outputs": [
    {
     "data": {
      "text/plain": [
       "{'year': 2019,\n",
       " 'player': 'Zylan Cheatham',\n",
       " 'mp': 51,\n",
       " 'ws': 0.0,\n",
       " 'wsper48': 0.034,\n",
       " 'bpm': -7.1}"
      ]
     },
     "execution_count": 9,
     "metadata": {},
     "output_type": "execute_result"
=======
   "execution_count": 14,
   "metadata": {},
   "outputs": [
    {
     "ename": "NameError",
     "evalue": "name 'obj' is not defined",
     "output_type": "error",
     "traceback": [
      "\u001b[0;31m---------------------------------------------------------------------------\u001b[0m",
      "\u001b[0;31mNameError\u001b[0m                                 Traceback (most recent call last)",
      "\u001b[0;32m<ipython-input-14-c88944e91e53>\u001b[0m in \u001b[0;36m<module>\u001b[0;34m\u001b[0m\n\u001b[0;32m----> 1\u001b[0;31m \u001b[0mobj\u001b[0m\u001b[0;34m\u001b[0m\u001b[0;34m\u001b[0m\u001b[0m\n\u001b[0m",
      "\u001b[0;31mNameError\u001b[0m: name 'obj' is not defined"
     ]
>>>>>>> 9556a60ec5444ce7bee787322dfc894bb8bc0787
    }
   ],
   "source": [
    "obj"
   ]
  },
  {
   "cell_type": "code",
   "execution_count": null,
   "metadata": {},
   "outputs": [],
   "source": []
  }
 ],
 "metadata": {
  "kernelspec": {
   "display_name": "Python 3",
   "language": "python",
   "name": "python3"
  },
  "language_info": {
   "codemirror_mode": {
    "name": "ipython",
    "version": 3
   },
   "file_extension": ".py",
   "mimetype": "text/x-python",
   "name": "python",
   "nbconvert_exporter": "python",
   "pygments_lexer": "ipython3",
   "version": "3.6.12"
  }
 },
 "nbformat": 4,
 "nbformat_minor": 4
}

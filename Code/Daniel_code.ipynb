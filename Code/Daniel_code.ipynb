{
 "cells": [
  {
   "cell_type": "code",
   "execution_count": 8,
   "metadata": {},
   "outputs": [],
   "source": [
    "import pandas as pd\n",
    "import numpy as np\n",
    "import matplotlib as plt\n",
    "from pathlib import Path"
   ]
  },
  {
   "cell_type": "code",
   "execution_count": 9,
   "metadata": {},
   "outputs": [],
   "source": [
    "# df = pd.read_csv(\"C:\\Users\\15309\\OneDrive\\Desktop\\Project_2_data\\group_project2\\Data\\Data_Raw\\1990-1991.csv\") \n",
    "# df.drop(df[df['Tm'] == 'TOT'].index, inplace = True)\n",
    "# df = df[['Player','MP','WS', 'WS/48', 'BPM']]\n",
    "# df = df.groupby(['Player']).sum().reset_index()\n",
    "# df.to_csv('Data_Clean/90_91_clean.csv', index=False)"
   ]
  },
  {
   "cell_type": "code",
   "execution_count": 10,
   "metadata": {},
   "outputs": [],
   "source": [
    "# df['Player'] = df['Player'].str.replace('?', '')\n",
    "# df['Player'] = df['Player'].str.replace('*', '')\n",
    "# df"
   ]
  },
  {
   "cell_type": "code",
   "execution_count": 11,
   "metadata": {},
   "outputs": [],
   "source": [
    "# folder=\"group_project2/Data/Data_Raw\"\n",
    "\n",
    "\n",
    "# for file in Path(folder).glob('*.csv'):\n",
    "#     for index, row in df.iterrows():\n",
    "#         obj = {\n",
    "#         'player': row['Player'],\n",
    "#         'mp': row['MP'],\n",
    "#         'ws': row['WS'],\n",
    "#         'wsper48': row['WS/48'],\n",
    "#         'bpm': row['BPM']\n",
    "#     }"
   ]
  },
  {
   "cell_type": "code",
   "execution_count": 12,
   "metadata": {},
   "outputs": [],
   "source": [
    "# obj"
   ]
  },
  {
   "cell_type": "code",
   "execution_count": 15,
   "metadata": {},
   "outputs": [],
   "source": [
    "folder=\"group_project2/Data/Data_Raw\"\n",
    "\n",
    "year = 1976\n",
    "\n",
    "#i = 0\n",
    "\n",
    "for file in Path(folder).glob('*.csv'):\n",
    "    df = pd.read_csv(file)\n",
    "    df.drop(df[df['Tm'] == 'TOT'].index, inplace = True)\n",
    "    df = df[['Player','MP','WS', 'WS/48', 'BPM']]\n",
    "    df = df.groupby(['Player']).sum().reset_index()\n",
    "    df['Player'] = df['Player'].str.replace('?', '')\n",
    "    df['Player'] = df['Player'].str.replace('*', '')\n",
    "    for index, row in df.iterrows():\n",
    "        obj = {\n",
    "            'year': year,\n",
    "            'player': row['Player'],\n",
    "            'mp': row['MP'],\n",
    "            'ws': row['WS'],\n",
    "            'wsper48': row['WS/48'],\n",
    "            'bpm': row['BPM']\n",
    "        }\n",
    "    year += 1   \n",
    "    \n",
    "#     collection.insert_one(obj)\n",
    "\n",
    "    #i += 1\n",
    "    #if i == 17:\n",
    "     #   break"
   ]
  },
  {
   "cell_type": "code",
   "execution_count": 14,
   "metadata": {},
   "outputs": [
    {
     "ename": "NameError",
     "evalue": "name 'obj' is not defined",
     "output_type": "error",
     "traceback": [
      "\u001b[0;31m---------------------------------------------------------------------------\u001b[0m",
      "\u001b[0;31mNameError\u001b[0m                                 Traceback (most recent call last)",
      "\u001b[0;32m<ipython-input-14-c88944e91e53>\u001b[0m in \u001b[0;36m<module>\u001b[0;34m\u001b[0m\n\u001b[0;32m----> 1\u001b[0;31m \u001b[0mobj\u001b[0m\u001b[0;34m\u001b[0m\u001b[0;34m\u001b[0m\u001b[0m\n\u001b[0m",
      "\u001b[0;31mNameError\u001b[0m: name 'obj' is not defined"
     ]
    }
   ],
   "source": [
    "obj"
   ]
  },
  {
   "cell_type": "code",
   "execution_count": null,
   "metadata": {},
   "outputs": [],
   "source": []
  }
 ],
 "metadata": {
  "kernelspec": {
   "display_name": "Python 3",
   "language": "python",
   "name": "python3"
  },
  "language_info": {
   "codemirror_mode": {
    "name": "ipython",
    "version": 3
   },
   "file_extension": ".py",
   "mimetype": "text/x-python",
   "name": "python",
   "nbconvert_exporter": "python",
   "pygments_lexer": "ipython3",
   "version": "3.6.12"
  }
 },
 "nbformat": 4,
 "nbformat_minor": 4
}

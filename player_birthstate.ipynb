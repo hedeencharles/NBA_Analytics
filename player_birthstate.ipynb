{
 "cells": [
  {
   "cell_type": "markdown",
   "metadata": {},
   "source": [
    "## Import DataFrame"
   ]
  },
  {
   "cell_type": "code",
   "execution_count": 1,
   "metadata": {},
   "outputs": [],
   "source": [
    "# import libraries\n",
    "import pandas as pd\n",
    "import matplotlib.pyplot as plt\n",
    "from matplotlib.pyplot import figure\n",
    "import numpy as np"
   ]
  },
  {
   "cell_type": "code",
   "execution_count": 2,
   "metadata": {},
   "outputs": [
    {
     "data": {
      "text/html": [
       "<div>\n",
       "<style scoped>\n",
       "    .dataframe tbody tr th:only-of-type {\n",
       "        vertical-align: middle;\n",
       "    }\n",
       "\n",
       "    .dataframe tbody tr th {\n",
       "        vertical-align: top;\n",
       "    }\n",
       "\n",
       "    .dataframe thead th {\n",
       "        text-align: right;\n",
       "    }\n",
       "</style>\n",
       "<table border=\"1\" class=\"dataframe\">\n",
       "  <thead>\n",
       "    <tr style=\"text-align: right;\">\n",
       "      <th></th>\n",
       "      <th>Unnamed: 0</th>\n",
       "      <th>Player</th>\n",
       "      <th>height</th>\n",
       "      <th>weight</th>\n",
       "      <th>collage</th>\n",
       "      <th>born</th>\n",
       "      <th>birth_city</th>\n",
       "      <th>birth_state</th>\n",
       "    </tr>\n",
       "  </thead>\n",
       "  <tbody>\n",
       "    <tr>\n",
       "      <th>0</th>\n",
       "      <td>0</td>\n",
       "      <td>Curly Armstrong</td>\n",
       "      <td>180.0</td>\n",
       "      <td>77.0</td>\n",
       "      <td>Indiana University</td>\n",
       "      <td>1918.0</td>\n",
       "      <td>NaN</td>\n",
       "      <td>NaN</td>\n",
       "    </tr>\n",
       "    <tr>\n",
       "      <th>1</th>\n",
       "      <td>1</td>\n",
       "      <td>Cliff Barker</td>\n",
       "      <td>188.0</td>\n",
       "      <td>83.0</td>\n",
       "      <td>University of Kentucky</td>\n",
       "      <td>1921.0</td>\n",
       "      <td>Yorktown</td>\n",
       "      <td>Indiana</td>\n",
       "    </tr>\n",
       "    <tr>\n",
       "      <th>2</th>\n",
       "      <td>2</td>\n",
       "      <td>Leo Barnhorst</td>\n",
       "      <td>193.0</td>\n",
       "      <td>86.0</td>\n",
       "      <td>University of Notre Dame</td>\n",
       "      <td>1924.0</td>\n",
       "      <td>NaN</td>\n",
       "      <td>NaN</td>\n",
       "    </tr>\n",
       "    <tr>\n",
       "      <th>3</th>\n",
       "      <td>3</td>\n",
       "      <td>Ed Bartels</td>\n",
       "      <td>196.0</td>\n",
       "      <td>88.0</td>\n",
       "      <td>North Carolina State University</td>\n",
       "      <td>1925.0</td>\n",
       "      <td>NaN</td>\n",
       "      <td>NaN</td>\n",
       "    </tr>\n",
       "    <tr>\n",
       "      <th>4</th>\n",
       "      <td>4</td>\n",
       "      <td>Ralph Beard</td>\n",
       "      <td>178.0</td>\n",
       "      <td>79.0</td>\n",
       "      <td>University of Kentucky</td>\n",
       "      <td>1927.0</td>\n",
       "      <td>Hardinsburg</td>\n",
       "      <td>Kentucky</td>\n",
       "    </tr>\n",
       "    <tr>\n",
       "      <th>...</th>\n",
       "      <td>...</td>\n",
       "      <td>...</td>\n",
       "      <td>...</td>\n",
       "      <td>...</td>\n",
       "      <td>...</td>\n",
       "      <td>...</td>\n",
       "      <td>...</td>\n",
       "      <td>...</td>\n",
       "    </tr>\n",
       "    <tr>\n",
       "      <th>3917</th>\n",
       "      <td>3917</td>\n",
       "      <td>Troy Williams</td>\n",
       "      <td>198.0</td>\n",
       "      <td>97.0</td>\n",
       "      <td>South Carolina State University</td>\n",
       "      <td>1969.0</td>\n",
       "      <td>Columbia</td>\n",
       "      <td>South Carolina</td>\n",
       "    </tr>\n",
       "    <tr>\n",
       "      <th>3918</th>\n",
       "      <td>3918</td>\n",
       "      <td>Kyle Wiltjer</td>\n",
       "      <td>208.0</td>\n",
       "      <td>108.0</td>\n",
       "      <td>Gonzaga University</td>\n",
       "      <td>1992.0</td>\n",
       "      <td>Portland</td>\n",
       "      <td>Oregon</td>\n",
       "    </tr>\n",
       "    <tr>\n",
       "      <th>3919</th>\n",
       "      <td>3919</td>\n",
       "      <td>Stephen Zimmerman</td>\n",
       "      <td>213.0</td>\n",
       "      <td>108.0</td>\n",
       "      <td>University of Nevada, Las Vegas</td>\n",
       "      <td>1996.0</td>\n",
       "      <td>Hendersonville</td>\n",
       "      <td>Tennessee</td>\n",
       "    </tr>\n",
       "    <tr>\n",
       "      <th>3920</th>\n",
       "      <td>3920</td>\n",
       "      <td>Paul Zipser</td>\n",
       "      <td>203.0</td>\n",
       "      <td>97.0</td>\n",
       "      <td>NaN</td>\n",
       "      <td>1994.0</td>\n",
       "      <td>Heidelberg</td>\n",
       "      <td>Germany</td>\n",
       "    </tr>\n",
       "    <tr>\n",
       "      <th>3921</th>\n",
       "      <td>3921</td>\n",
       "      <td>Ivica Zubac</td>\n",
       "      <td>216.0</td>\n",
       "      <td>120.0</td>\n",
       "      <td>NaN</td>\n",
       "      <td>1997.0</td>\n",
       "      <td>Mostar</td>\n",
       "      <td>Bosnia and Herzegovina</td>\n",
       "    </tr>\n",
       "  </tbody>\n",
       "</table>\n",
       "<p>3922 rows × 8 columns</p>\n",
       "</div>"
      ],
      "text/plain": [
       "      Unnamed: 0             Player  height  weight  \\\n",
       "0              0    Curly Armstrong   180.0    77.0   \n",
       "1              1       Cliff Barker   188.0    83.0   \n",
       "2              2      Leo Barnhorst   193.0    86.0   \n",
       "3              3         Ed Bartels   196.0    88.0   \n",
       "4              4        Ralph Beard   178.0    79.0   \n",
       "...          ...                ...     ...     ...   \n",
       "3917        3917      Troy Williams   198.0    97.0   \n",
       "3918        3918       Kyle Wiltjer   208.0   108.0   \n",
       "3919        3919  Stephen Zimmerman   213.0   108.0   \n",
       "3920        3920        Paul Zipser   203.0    97.0   \n",
       "3921        3921        Ivica Zubac   216.0   120.0   \n",
       "\n",
       "                              collage    born      birth_city  \\\n",
       "0                  Indiana University  1918.0             NaN   \n",
       "1              University of Kentucky  1921.0        Yorktown   \n",
       "2            University of Notre Dame  1924.0             NaN   \n",
       "3     North Carolina State University  1925.0             NaN   \n",
       "4              University of Kentucky  1927.0     Hardinsburg   \n",
       "...                               ...     ...             ...   \n",
       "3917  South Carolina State University  1969.0        Columbia   \n",
       "3918               Gonzaga University  1992.0        Portland   \n",
       "3919  University of Nevada, Las Vegas  1996.0  Hendersonville   \n",
       "3920                              NaN  1994.0      Heidelberg   \n",
       "3921                              NaN  1997.0          Mostar   \n",
       "\n",
       "                 birth_state  \n",
       "0                        NaN  \n",
       "1                    Indiana  \n",
       "2                        NaN  \n",
       "3                        NaN  \n",
       "4                   Kentucky  \n",
       "...                      ...  \n",
       "3917          South Carolina  \n",
       "3918                  Oregon  \n",
       "3919               Tennessee  \n",
       "3920                 Germany  \n",
       "3921  Bosnia and Herzegovina  \n",
       "\n",
       "[3922 rows x 8 columns]"
      ]
     },
     "execution_count": 2,
     "metadata": {},
     "output_type": "execute_result"
    }
   ],
   "source": [
    "# Dataset from Kaggle, includes international\n",
    "# URL = \n",
    "\n",
    "nba_player_df = pd.read_csv('Datasets/Players.csv')\n",
    "nba_player_df"
   ]
  },
  {
   "cell_type": "markdown",
   "metadata": {},
   "source": [
    "## Check for NaN or Null values"
   ]
  },
  {
   "cell_type": "code",
   "execution_count": 3,
   "metadata": {},
   "outputs": [
    {
     "name": "stdout",
     "output_type": "stream",
     "text": [
      "Number of Null Values: 484\n"
     ]
    }
   ],
   "source": [
    "# check for nan 'birthstate'\n",
    "number_nan_birthState = nba_player_df[['Player', 'birth_state']].isnull().values.sum()\n",
    "print(f'Number of Null Values: {number_nan_birthState}')"
   ]
  },
  {
   "cell_type": "code",
   "execution_count": 4,
   "metadata": {},
   "outputs": [
    {
     "name": "stdout",
     "output_type": "stream",
     "text": [
      "Number of Null Values: 0\n"
     ]
    }
   ],
   "source": [
    "# drop null values\n",
    "nba_player_df = nba_player_df[['Player', 'birth_state']].dropna(axis=0, how='any')\n",
    "\n",
    "# df of player and birth_state with null values removed\n",
    "nba_player_df\n",
    "\n",
    "# check again for null values\n",
    "number_nan_birthState = nba_player_df.isnull().values.sum()\n",
    "print(f'Number of Null Values: {number_nan_birthState}')"
   ]
  },
  {
   "cell_type": "code",
   "execution_count": 6,
   "metadata": {},
   "outputs": [],
   "source": [
    "nba_player_df.to_csv('nba_hometown_data.csv', index=False)"
   ]
  },
  {
   "cell_type": "markdown",
   "metadata": {},
   "source": [
    "## Bar Chart"
   ]
  },
  {
   "cell_type": "code",
   "execution_count": 5,
   "metadata": {},
   "outputs": [],
   "source": [
    "# CREATE BAR CHART \n",
    "state_list = nba_player_df['birth_state'].tolist()\n",
    "\n",
    "state_list\n",
    "\n",
    "player_list = nba_player_df.groupby(['birth_state']).count()\n",
    "\n",
    "player_list = player_list['Player'].tolist()\n",
    "player_list\n",
    "\n",
    "# create x-axis len for plotting\n",
    "x_axis = np.arange(len(player_list))"
   ]
  },
  {
   "cell_type": "code",
   "execution_count": 6,
   "metadata": {},
   "outputs": [
    {
     "data": {
      "image/png": "[encoded data removed]",
      "text/plain": [
       "<Figure size 432x288 with 1 Axes>"
      ]
     },
     "metadata": {
      "needs_background": "light"
     },
     "output_type": "display_data"
    }
   ],
   "source": [
    "# BAR CHART\n",
    "\n",
    "plt.bar(x_axis, player_list)\n",
    "tick_locations = [value for value in x_axis]\n",
    "plt.xticks(tick_locations, state_list, rotation='vertical')\n",
    "plt.show()"
   ]
  },
  {
   "cell_type": "code",
   "execution_count": null,
   "metadata": {},
   "outputs": [],
   "source": []
  }
 ],
 "metadata": {
  "kernelspec": {
   "display_name": "Python 3",
   "language": "python",
   "name": "python3"
  },
  "language_info": {
   "codemirror_mode": {
    "name": "ipython",
    "version": 3
   },
   "file_extension": ".py",
   "mimetype": "text/x-python",
   "name": "python",
   "nbconvert_exporter": "python",
   "pygments_lexer": "ipython3",
   "version": "3.6.12"
  }
 },
 "nbformat": 4,
 "nbformat_minor": 4
}
